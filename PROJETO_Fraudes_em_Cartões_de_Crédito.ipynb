{
  "nbformat": 4,
  "nbformat_minor": 0,
  "metadata": {
    "colab": {
      "name": "PROJETO_Fraudes_em_Cartões_de_Crédito.ipynb",
      "provenance": [],
      "collapsed_sections": [],
      "include_colab_link": true
    },
    "kernelspec": {
      "name": "python3",
      "display_name": "Python 3"
    }
  },
  "cells": [
    {
      "cell_type": "markdown",
      "metadata": {
        "id": "view-in-github",
        "colab_type": "text"
      },
      "source": [
        "<a href=\"https://colab.research.google.com/github/adrianadamata/Data_Science_Fraudes_em_Compras_online/blob/main/PROJETO_Fraudes_em_Cart%C3%B5es_de_Cr%C3%A9dito.ipynb\" target=\"_parent\"><img src=\"https://colab.research.google.com/assets/colab-badge.svg\" alt=\"Open In Colab\"/></a>"
      ]
    },
    {
      "cell_type": "markdown",
      "metadata": {
        "id": "sC2BFMOKN1M7"
      },
      "source": [
        "---\n",
        "<img alt=\"Colaboratory logo\" width=\"15%\" src=\"https://raw.githubusercontent.com/carlosfab/escola-data-science/master/img/novo_logo_bg_claro.png\">\n",
        "\n",
        "#### **Data Science na Prática 2.0**\n",
        "*by [sigmoidal.ai](https://sigmoidal.ai)*  \n",
        "\n",
        "---"
      ]
    },
    {
      "cell_type": "markdown",
      "metadata": {
        "id": "IR56trFcPcC1"
      },
      "source": [
        "# Detecção de Fraudes em Cartões de Crédito\n",
        "\n",
        "Pesquisas indicam o aumento do uso de cartões de crédito, no cenário de pandemia. O alerta do risco de propagação do novo coronavírus acelerou as mudanças de hábito nas compras. A maioria dos consumidores têm preferido evitar a movimentação de dinheiro. Além disso, uma nova tecnologia foi disseminada durante o ano de 2020: o pagamento por aproximação do cartão.O pagamento por aproximação acontece por meio de uma tecnologia chamada NFC (Near Field Communication). Desta forma, o pagamento por meio do cartão torna-se uma opção mais segura de pagamento, em relação à contaminação. \n",
        "\n",
        "Tudo isso favoreceu o crescimento de compras por cartão. Com o isolamento social, as compras online foram mais necessárias e com isso, o pagamento através de cartão de crédito. Para garantir segurança nas compras online, faz-se necessário um controle de fraudes em cartões de crédito. É importante para as instituições financeiras conquistar a confiança de seus clientes e assegurar agilidade nas compras. \n",
        "\n",
        "Além disso, os prejuízos podem representar grandes quantias. Compras realizadas através de fraudes podem comprometer a segurança do cliente, bem como acarretar sérios prejuízos. Para detectar fraudes, algoritmos de Machine Learning utilizam o histórico de bancos de dados para identificar e impedir compras suspeitas. No entanto, o algoritmo deve ser otimizado para não impedir compras reais, o que geraria transtorno ao cliente. \n",
        "\n",
        "Por isso, com o auxílio da Ciência de Dados, é possível otimizar tais algoritmos de Machine Learning para viabilizar o máximo de compras reais e impedir compras fraudulentas com maior precisão. Pequenas melhorias podem representar grandes quantias nos resultados finais.\n",
        "\n",
        "Neste projeto, iremos abordar fraudes em cartões de crédito.\n",
        "Um levantamento da Câmara de Dirigentes Lojistas (CNDL) em conjunto com o Serviço de Proteção ao Consumidor (SPC) mostra que em 12 meses, os prejuízos chegaram a R$ 1,8 bilhão e afetou mais de 12 milhões de brasileiros.\n",
        "\n",
        "<p align=center>\n",
        "<img src=\"https://raw.githubusercontent.com/adrianadamata/Data_Science_Fraudes_em_Compras_online/main/Roubo_Cartao.jpg\"\n",
        " width=\"60%\"></p>\n"
      ]
    },
    {
      "cell_type": "markdown",
      "metadata": {
        "id": "0HVmpIxQWT4Y"
      },
      "source": [
        "## Importando os Dados\n",
        "\n",
        "No conjunto de dados disponibilizado pelo [kaggle](https://www.kaggle.com/mlg-ulb/creditcardfraud) as variáveis disponibilizadas são numéricas e foram extraídas de dados disponibilizados por  empresas européias de cartão de crédito. Para garantir a confidencialidade das informações, as colunas são representados por $[V1, V2, V3 \\dots, V28]$. Além disso, as variáveis foram selecionadas por meio de Análise de Componentes Principais (*Principal Component Analysis* - PCA).\n",
        "\n",
        "A técnica de PCA permite a redução da dimensionalidade, extraindo as *features* que melhor representam o *dataset*, os chamados **componentes**.\n",
        "\n",
        "Segundo dados disponibilizados no Kaggle, o *dataset* contém transações realizadas por cartões de crédito no período de dois dias do mês de setembro de 2013, onde temos 492 fraudes no total de 284.807 transações. Por isso, o conjunto de dados é altamente desequilibrado: a classe positiva (fraudes) é responsável por apenas 0,172% de todas as transações.\n"
      ]
    },
    {
      "cell_type": "code",
      "metadata": {
        "colab": {
          "base_uri": "https://localhost:8080/"
        },
        "id": "AxhBfGZ36q4W",
        "outputId": "88951537-1fb9-46df-c6e8-9b1c3d93938f"
      },
      "source": [
        "pip install scikit-plot"
      ],
      "execution_count": 1,
      "outputs": [
        {
          "output_type": "stream",
          "text": [
            "Collecting scikit-plot\n",
            "  Downloading https://files.pythonhosted.org/packages/7c/47/32520e259340c140a4ad27c1b97050dd3254fdc517b1d59974d47037510e/scikit_plot-0.3.7-py3-none-any.whl\n",
            "Requirement already satisfied: scikit-learn>=0.18 in /usr/local/lib/python3.7/dist-packages (from scikit-plot) (0.22.2.post1)\n",
            "Requirement already satisfied: matplotlib>=1.4.0 in /usr/local/lib/python3.7/dist-packages (from scikit-plot) (3.2.2)\n",
            "Requirement already satisfied: scipy>=0.9 in /usr/local/lib/python3.7/dist-packages (from scikit-plot) (1.4.1)\n",
            "Requirement already satisfied: joblib>=0.10 in /usr/local/lib/python3.7/dist-packages (from scikit-plot) (1.0.1)\n",
            "Requirement already satisfied: numpy>=1.11.0 in /usr/local/lib/python3.7/dist-packages (from scikit-learn>=0.18->scikit-plot) (1.19.5)\n",
            "Requirement already satisfied: python-dateutil>=2.1 in /usr/local/lib/python3.7/dist-packages (from matplotlib>=1.4.0->scikit-plot) (2.8.1)\n",
            "Requirement already satisfied: kiwisolver>=1.0.1 in /usr/local/lib/python3.7/dist-packages (from matplotlib>=1.4.0->scikit-plot) (1.3.1)\n",
            "Requirement already satisfied: cycler>=0.10 in /usr/local/lib/python3.7/dist-packages (from matplotlib>=1.4.0->scikit-plot) (0.10.0)\n",
            "Requirement already satisfied: pyparsing!=2.0.4,!=2.1.2,!=2.1.6,>=2.0.1 in /usr/local/lib/python3.7/dist-packages (from matplotlib>=1.4.0->scikit-plot) (2.4.7)\n",
            "Requirement already satisfied: six>=1.5 in /usr/local/lib/python3.7/dist-packages (from python-dateutil>=2.1->matplotlib>=1.4.0->scikit-plot) (1.15.0)\n",
            "Installing collected packages: scikit-plot\n",
            "Successfully installed scikit-plot-0.3.7\n"
          ],
          "name": "stdout"
        }
      ]
    },
    {
      "cell_type": "code",
      "metadata": {
        "id": "oQ4bNy7udtEE",
        "colab": {
          "base_uri": "https://localhost:8080/"
        },
        "outputId": "4ff300d5-14e7-41a5-b0aa-009b23e66705"
      },
      "source": [
        "# importar os pacotes necessários\n",
        "import pandas as pd\n",
        "import numpy as np\n",
        "import matplotlib.pyplot as plt\n",
        "import seaborn as sns\n",
        "import scikitplot as skplt\n",
        "from sklearn.model_selection import train_test_split\n",
        "from sklearn.preprocessing import StandardScaler\n",
        "from sklearn.linear_model import LogisticRegression\n",
        "from sklearn.metrics import classification_report\n",
        "from sklearn.metrics import roc_auc_score, roc_curve, accuracy_score\n",
        "\n",
        "from sklearn import svm\n",
        "\n",
        "from imblearn.under_sampling import RandomUnderSampler\n",
        "\n",
        "#estilo dos gráficos com o Seaborn\n",
        "sns.set_style('dark')\n"
      ],
      "execution_count": 2,
      "outputs": [
        {
          "output_type": "stream",
          "text": [
            "/usr/local/lib/python3.7/dist-packages/sklearn/externals/six.py:31: FutureWarning: The module is deprecated in version 0.21 and will be removed in version 0.23 since we've dropped support for Python 2.7. Please rely on the official version of six (https://pypi.org/project/six/).\n",
            "  \"(https://pypi.org/project/six/).\", FutureWarning)\n",
            "/usr/local/lib/python3.7/dist-packages/sklearn/utils/deprecation.py:144: FutureWarning: The sklearn.neighbors.base module is  deprecated in version 0.22 and will be removed in version 0.24. The corresponding classes / functions should instead be imported from sklearn.neighbors. Anything that cannot be imported from sklearn.neighbors is now part of the private API.\n",
            "  warnings.warn(message, FutureWarning)\n"
          ],
          "name": "stderr"
        }
      ]
    },
    {
      "cell_type": "markdown",
      "metadata": {
        "id": "g5XDTWW5LRVe"
      },
      "source": [
        "No Curso de Data Science na Prática, o conjunto de dados foi disponibilizado no dropbox em formato `csv`, conforme *link* abaixo.\n"
      ]
    },
    {
      "cell_type": "code",
      "metadata": {
        "id": "4NxUOfDOj2j8"
      },
      "source": [
        "link_data = \"https://www.dropbox.com/s/b44o3t3ehmnx2b7/creditcard.csv?dl=1\"\n",
        "\n",
        "# importar os dados para um dataframe\n",
        "df = pd.read_csv(link_data)"
      ],
      "execution_count": 3,
      "outputs": []
    },
    {
      "cell_type": "markdown",
      "metadata": {
        "id": "7nF_Dhd81Cvq"
      },
      "source": [
        "Com os dados já estão tratados, estão prontos para a modelagem de algoritmo de *Machine Learning*. Para isso, faremos uma breve Análise Exploratória."
      ]
    },
    {
      "cell_type": "markdown",
      "metadata": {
        "id": "8UtXyZ6stlSM"
      },
      "source": [
        "## Análise Exploratória\n",
        "\n"
      ]
    },
    {
      "cell_type": "markdown",
      "metadata": {
        "id": "0gJMbC8Tf0pF"
      },
      "source": [
        "Para visualizarmos a estrutura do DataFrame, as primeiras cinco entradas estão listadas abaixo. É possível observar que as colunas estão descaracterizadas para preservar a segurança da origem dos dados. A variável `Time` representa o número de segundos decorridos entre esta transação e a primeira transação no conjunto de dados\n",
        "e `Amount`é o montante da transação.\n",
        "A feature `Class` indica a classificação das transações: \n",
        "\n",
        "* Se fraudulentas = 1; \n",
        "* Caso contrário = 0."
      ]
    },
    {
      "cell_type": "code",
      "metadata": {
        "colab": {
          "base_uri": "https://localhost:8080/",
          "height": 224
        },
        "id": "ttNrUiZmfl7l",
        "outputId": "955d6b77-90c5-4167-bd63-28454d84e9b4"
      },
      "source": [
        "#5 primeiras entradas\n",
        "df.head()"
      ],
      "execution_count": 4,
      "outputs": [
        {
          "output_type": "execute_result",
          "data": {
            "text/html": [
              "<div>\n",
              "<style scoped>\n",
              "    .dataframe tbody tr th:only-of-type {\n",
              "        vertical-align: middle;\n",
              "    }\n",
              "\n",
              "    .dataframe tbody tr th {\n",
              "        vertical-align: top;\n",
              "    }\n",
              "\n",
              "    .dataframe thead th {\n",
              "        text-align: right;\n",
              "    }\n",
              "</style>\n",
              "<table border=\"1\" class=\"dataframe\">\n",
              "  <thead>\n",
              "    <tr style=\"text-align: right;\">\n",
              "      <th></th>\n",
              "      <th>Time</th>\n",
              "      <th>V1</th>\n",
              "      <th>V2</th>\n",
              "      <th>V3</th>\n",
              "      <th>V4</th>\n",
              "      <th>V5</th>\n",
              "      <th>V6</th>\n",
              "      <th>V7</th>\n",
              "      <th>V8</th>\n",
              "      <th>V9</th>\n",
              "      <th>V10</th>\n",
              "      <th>V11</th>\n",
              "      <th>V12</th>\n",
              "      <th>V13</th>\n",
              "      <th>V14</th>\n",
              "      <th>V15</th>\n",
              "      <th>V16</th>\n",
              "      <th>V17</th>\n",
              "      <th>V18</th>\n",
              "      <th>V19</th>\n",
              "      <th>V20</th>\n",
              "      <th>V21</th>\n",
              "      <th>V22</th>\n",
              "      <th>V23</th>\n",
              "      <th>V24</th>\n",
              "      <th>V25</th>\n",
              "      <th>V26</th>\n",
              "      <th>V27</th>\n",
              "      <th>V28</th>\n",
              "      <th>Amount</th>\n",
              "      <th>Class</th>\n",
              "    </tr>\n",
              "  </thead>\n",
              "  <tbody>\n",
              "    <tr>\n",
              "      <th>0</th>\n",
              "      <td>0.0</td>\n",
              "      <td>-1.359807</td>\n",
              "      <td>-0.072781</td>\n",
              "      <td>2.536347</td>\n",
              "      <td>1.378155</td>\n",
              "      <td>-0.338321</td>\n",
              "      <td>0.462388</td>\n",
              "      <td>0.239599</td>\n",
              "      <td>0.098698</td>\n",
              "      <td>0.363787</td>\n",
              "      <td>0.090794</td>\n",
              "      <td>-0.551600</td>\n",
              "      <td>-0.617801</td>\n",
              "      <td>-0.991390</td>\n",
              "      <td>-0.311169</td>\n",
              "      <td>1.468177</td>\n",
              "      <td>-0.470401</td>\n",
              "      <td>0.207971</td>\n",
              "      <td>0.025791</td>\n",
              "      <td>0.403993</td>\n",
              "      <td>0.251412</td>\n",
              "      <td>-0.018307</td>\n",
              "      <td>0.277838</td>\n",
              "      <td>-0.110474</td>\n",
              "      <td>0.066928</td>\n",
              "      <td>0.128539</td>\n",
              "      <td>-0.189115</td>\n",
              "      <td>0.133558</td>\n",
              "      <td>-0.021053</td>\n",
              "      <td>149.62</td>\n",
              "      <td>0</td>\n",
              "    </tr>\n",
              "    <tr>\n",
              "      <th>1</th>\n",
              "      <td>0.0</td>\n",
              "      <td>1.191857</td>\n",
              "      <td>0.266151</td>\n",
              "      <td>0.166480</td>\n",
              "      <td>0.448154</td>\n",
              "      <td>0.060018</td>\n",
              "      <td>-0.082361</td>\n",
              "      <td>-0.078803</td>\n",
              "      <td>0.085102</td>\n",
              "      <td>-0.255425</td>\n",
              "      <td>-0.166974</td>\n",
              "      <td>1.612727</td>\n",
              "      <td>1.065235</td>\n",
              "      <td>0.489095</td>\n",
              "      <td>-0.143772</td>\n",
              "      <td>0.635558</td>\n",
              "      <td>0.463917</td>\n",
              "      <td>-0.114805</td>\n",
              "      <td>-0.183361</td>\n",
              "      <td>-0.145783</td>\n",
              "      <td>-0.069083</td>\n",
              "      <td>-0.225775</td>\n",
              "      <td>-0.638672</td>\n",
              "      <td>0.101288</td>\n",
              "      <td>-0.339846</td>\n",
              "      <td>0.167170</td>\n",
              "      <td>0.125895</td>\n",
              "      <td>-0.008983</td>\n",
              "      <td>0.014724</td>\n",
              "      <td>2.69</td>\n",
              "      <td>0</td>\n",
              "    </tr>\n",
              "    <tr>\n",
              "      <th>2</th>\n",
              "      <td>1.0</td>\n",
              "      <td>-1.358354</td>\n",
              "      <td>-1.340163</td>\n",
              "      <td>1.773209</td>\n",
              "      <td>0.379780</td>\n",
              "      <td>-0.503198</td>\n",
              "      <td>1.800499</td>\n",
              "      <td>0.791461</td>\n",
              "      <td>0.247676</td>\n",
              "      <td>-1.514654</td>\n",
              "      <td>0.207643</td>\n",
              "      <td>0.624501</td>\n",
              "      <td>0.066084</td>\n",
              "      <td>0.717293</td>\n",
              "      <td>-0.165946</td>\n",
              "      <td>2.345865</td>\n",
              "      <td>-2.890083</td>\n",
              "      <td>1.109969</td>\n",
              "      <td>-0.121359</td>\n",
              "      <td>-2.261857</td>\n",
              "      <td>0.524980</td>\n",
              "      <td>0.247998</td>\n",
              "      <td>0.771679</td>\n",
              "      <td>0.909412</td>\n",
              "      <td>-0.689281</td>\n",
              "      <td>-0.327642</td>\n",
              "      <td>-0.139097</td>\n",
              "      <td>-0.055353</td>\n",
              "      <td>-0.059752</td>\n",
              "      <td>378.66</td>\n",
              "      <td>0</td>\n",
              "    </tr>\n",
              "    <tr>\n",
              "      <th>3</th>\n",
              "      <td>1.0</td>\n",
              "      <td>-0.966272</td>\n",
              "      <td>-0.185226</td>\n",
              "      <td>1.792993</td>\n",
              "      <td>-0.863291</td>\n",
              "      <td>-0.010309</td>\n",
              "      <td>1.247203</td>\n",
              "      <td>0.237609</td>\n",
              "      <td>0.377436</td>\n",
              "      <td>-1.387024</td>\n",
              "      <td>-0.054952</td>\n",
              "      <td>-0.226487</td>\n",
              "      <td>0.178228</td>\n",
              "      <td>0.507757</td>\n",
              "      <td>-0.287924</td>\n",
              "      <td>-0.631418</td>\n",
              "      <td>-1.059647</td>\n",
              "      <td>-0.684093</td>\n",
              "      <td>1.965775</td>\n",
              "      <td>-1.232622</td>\n",
              "      <td>-0.208038</td>\n",
              "      <td>-0.108300</td>\n",
              "      <td>0.005274</td>\n",
              "      <td>-0.190321</td>\n",
              "      <td>-1.175575</td>\n",
              "      <td>0.647376</td>\n",
              "      <td>-0.221929</td>\n",
              "      <td>0.062723</td>\n",
              "      <td>0.061458</td>\n",
              "      <td>123.50</td>\n",
              "      <td>0</td>\n",
              "    </tr>\n",
              "    <tr>\n",
              "      <th>4</th>\n",
              "      <td>2.0</td>\n",
              "      <td>-1.158233</td>\n",
              "      <td>0.877737</td>\n",
              "      <td>1.548718</td>\n",
              "      <td>0.403034</td>\n",
              "      <td>-0.407193</td>\n",
              "      <td>0.095921</td>\n",
              "      <td>0.592941</td>\n",
              "      <td>-0.270533</td>\n",
              "      <td>0.817739</td>\n",
              "      <td>0.753074</td>\n",
              "      <td>-0.822843</td>\n",
              "      <td>0.538196</td>\n",
              "      <td>1.345852</td>\n",
              "      <td>-1.119670</td>\n",
              "      <td>0.175121</td>\n",
              "      <td>-0.451449</td>\n",
              "      <td>-0.237033</td>\n",
              "      <td>-0.038195</td>\n",
              "      <td>0.803487</td>\n",
              "      <td>0.408542</td>\n",
              "      <td>-0.009431</td>\n",
              "      <td>0.798278</td>\n",
              "      <td>-0.137458</td>\n",
              "      <td>0.141267</td>\n",
              "      <td>-0.206010</td>\n",
              "      <td>0.502292</td>\n",
              "      <td>0.219422</td>\n",
              "      <td>0.215153</td>\n",
              "      <td>69.99</td>\n",
              "      <td>0</td>\n",
              "    </tr>\n",
              "  </tbody>\n",
              "</table>\n",
              "</div>"
            ],
            "text/plain": [
              "   Time        V1        V2        V3  ...       V27       V28  Amount  Class\n",
              "0   0.0 -1.359807 -0.072781  2.536347  ...  0.133558 -0.021053  149.62      0\n",
              "1   0.0  1.191857  0.266151  0.166480  ... -0.008983  0.014724    2.69      0\n",
              "2   1.0 -1.358354 -1.340163  1.773209  ... -0.055353 -0.059752  378.66      0\n",
              "3   1.0 -0.966272 -0.185226  1.792993  ...  0.062723  0.061458  123.50      0\n",
              "4   2.0 -1.158233  0.877737  1.548718  ...  0.219422  0.215153   69.99      0\n",
              "\n",
              "[5 rows x 31 columns]"
            ]
          },
          "metadata": {
            "tags": []
          },
          "execution_count": 4
        }
      ]
    },
    {
      "cell_type": "markdown",
      "metadata": {
        "id": "EcnXk06CgDG7"
      },
      "source": [
        "As informações estatísticas do DataFrame são obtidas através do método `describe()`. \n",
        "Através desse panorama é possível observar uma discrepância no conjunto de dados da coluna `Class`. A maioria do conjunto representa transações não fraudulentas. Este é um ponto importante para os dados de treino do modelo de Machine Learning.\n"
      ]
    },
    {
      "cell_type": "code",
      "metadata": {
        "colab": {
          "base_uri": "https://localhost:8080/",
          "height": 317
        },
        "id": "bmJ2muKfgZbS",
        "outputId": "24858a3a-439b-4c2f-f2de-2606dad3e849"
      },
      "source": [
        "df.describe()"
      ],
      "execution_count": 5,
      "outputs": [
        {
          "output_type": "execute_result",
          "data": {
            "text/html": [
              "<div>\n",
              "<style scoped>\n",
              "    .dataframe tbody tr th:only-of-type {\n",
              "        vertical-align: middle;\n",
              "    }\n",
              "\n",
              "    .dataframe tbody tr th {\n",
              "        vertical-align: top;\n",
              "    }\n",
              "\n",
              "    .dataframe thead th {\n",
              "        text-align: right;\n",
              "    }\n",
              "</style>\n",
              "<table border=\"1\" class=\"dataframe\">\n",
              "  <thead>\n",
              "    <tr style=\"text-align: right;\">\n",
              "      <th></th>\n",
              "      <th>Time</th>\n",
              "      <th>V1</th>\n",
              "      <th>V2</th>\n",
              "      <th>V3</th>\n",
              "      <th>V4</th>\n",
              "      <th>V5</th>\n",
              "      <th>V6</th>\n",
              "      <th>V7</th>\n",
              "      <th>V8</th>\n",
              "      <th>V9</th>\n",
              "      <th>V10</th>\n",
              "      <th>V11</th>\n",
              "      <th>V12</th>\n",
              "      <th>V13</th>\n",
              "      <th>V14</th>\n",
              "      <th>V15</th>\n",
              "      <th>V16</th>\n",
              "      <th>V17</th>\n",
              "      <th>V18</th>\n",
              "      <th>V19</th>\n",
              "      <th>V20</th>\n",
              "      <th>V21</th>\n",
              "      <th>V22</th>\n",
              "      <th>V23</th>\n",
              "      <th>V24</th>\n",
              "      <th>V25</th>\n",
              "      <th>V26</th>\n",
              "      <th>V27</th>\n",
              "      <th>V28</th>\n",
              "      <th>Amount</th>\n",
              "      <th>Class</th>\n",
              "    </tr>\n",
              "  </thead>\n",
              "  <tbody>\n",
              "    <tr>\n",
              "      <th>count</th>\n",
              "      <td>284807.000000</td>\n",
              "      <td>2.848070e+05</td>\n",
              "      <td>2.848070e+05</td>\n",
              "      <td>2.848070e+05</td>\n",
              "      <td>2.848070e+05</td>\n",
              "      <td>2.848070e+05</td>\n",
              "      <td>2.848070e+05</td>\n",
              "      <td>2.848070e+05</td>\n",
              "      <td>2.848070e+05</td>\n",
              "      <td>2.848070e+05</td>\n",
              "      <td>2.848070e+05</td>\n",
              "      <td>2.848070e+05</td>\n",
              "      <td>2.848070e+05</td>\n",
              "      <td>2.848070e+05</td>\n",
              "      <td>2.848070e+05</td>\n",
              "      <td>2.848070e+05</td>\n",
              "      <td>2.848070e+05</td>\n",
              "      <td>2.848070e+05</td>\n",
              "      <td>2.848070e+05</td>\n",
              "      <td>2.848070e+05</td>\n",
              "      <td>2.848070e+05</td>\n",
              "      <td>2.848070e+05</td>\n",
              "      <td>2.848070e+05</td>\n",
              "      <td>2.848070e+05</td>\n",
              "      <td>2.848070e+05</td>\n",
              "      <td>2.848070e+05</td>\n",
              "      <td>2.848070e+05</td>\n",
              "      <td>2.848070e+05</td>\n",
              "      <td>2.848070e+05</td>\n",
              "      <td>284807.000000</td>\n",
              "      <td>284807.000000</td>\n",
              "    </tr>\n",
              "    <tr>\n",
              "      <th>mean</th>\n",
              "      <td>94813.859575</td>\n",
              "      <td>3.919560e-15</td>\n",
              "      <td>5.688174e-16</td>\n",
              "      <td>-8.769071e-15</td>\n",
              "      <td>2.782312e-15</td>\n",
              "      <td>-1.552563e-15</td>\n",
              "      <td>2.010663e-15</td>\n",
              "      <td>-1.694249e-15</td>\n",
              "      <td>-1.927028e-16</td>\n",
              "      <td>-3.137024e-15</td>\n",
              "      <td>1.768627e-15</td>\n",
              "      <td>9.170318e-16</td>\n",
              "      <td>-1.810658e-15</td>\n",
              "      <td>1.693438e-15</td>\n",
              "      <td>1.479045e-15</td>\n",
              "      <td>3.482336e-15</td>\n",
              "      <td>1.392007e-15</td>\n",
              "      <td>-7.528491e-16</td>\n",
              "      <td>4.328772e-16</td>\n",
              "      <td>9.049732e-16</td>\n",
              "      <td>5.085503e-16</td>\n",
              "      <td>1.537294e-16</td>\n",
              "      <td>7.959909e-16</td>\n",
              "      <td>5.367590e-16</td>\n",
              "      <td>4.458112e-15</td>\n",
              "      <td>1.453003e-15</td>\n",
              "      <td>1.699104e-15</td>\n",
              "      <td>-3.660161e-16</td>\n",
              "      <td>-1.206049e-16</td>\n",
              "      <td>88.349619</td>\n",
              "      <td>0.001727</td>\n",
              "    </tr>\n",
              "    <tr>\n",
              "      <th>std</th>\n",
              "      <td>47488.145955</td>\n",
              "      <td>1.958696e+00</td>\n",
              "      <td>1.651309e+00</td>\n",
              "      <td>1.516255e+00</td>\n",
              "      <td>1.415869e+00</td>\n",
              "      <td>1.380247e+00</td>\n",
              "      <td>1.332271e+00</td>\n",
              "      <td>1.237094e+00</td>\n",
              "      <td>1.194353e+00</td>\n",
              "      <td>1.098632e+00</td>\n",
              "      <td>1.088850e+00</td>\n",
              "      <td>1.020713e+00</td>\n",
              "      <td>9.992014e-01</td>\n",
              "      <td>9.952742e-01</td>\n",
              "      <td>9.585956e-01</td>\n",
              "      <td>9.153160e-01</td>\n",
              "      <td>8.762529e-01</td>\n",
              "      <td>8.493371e-01</td>\n",
              "      <td>8.381762e-01</td>\n",
              "      <td>8.140405e-01</td>\n",
              "      <td>7.709250e-01</td>\n",
              "      <td>7.345240e-01</td>\n",
              "      <td>7.257016e-01</td>\n",
              "      <td>6.244603e-01</td>\n",
              "      <td>6.056471e-01</td>\n",
              "      <td>5.212781e-01</td>\n",
              "      <td>4.822270e-01</td>\n",
              "      <td>4.036325e-01</td>\n",
              "      <td>3.300833e-01</td>\n",
              "      <td>250.120109</td>\n",
              "      <td>0.041527</td>\n",
              "    </tr>\n",
              "    <tr>\n",
              "      <th>min</th>\n",
              "      <td>0.000000</td>\n",
              "      <td>-5.640751e+01</td>\n",
              "      <td>-7.271573e+01</td>\n",
              "      <td>-4.832559e+01</td>\n",
              "      <td>-5.683171e+00</td>\n",
              "      <td>-1.137433e+02</td>\n",
              "      <td>-2.616051e+01</td>\n",
              "      <td>-4.355724e+01</td>\n",
              "      <td>-7.321672e+01</td>\n",
              "      <td>-1.343407e+01</td>\n",
              "      <td>-2.458826e+01</td>\n",
              "      <td>-4.797473e+00</td>\n",
              "      <td>-1.868371e+01</td>\n",
              "      <td>-5.791881e+00</td>\n",
              "      <td>-1.921433e+01</td>\n",
              "      <td>-4.498945e+00</td>\n",
              "      <td>-1.412985e+01</td>\n",
              "      <td>-2.516280e+01</td>\n",
              "      <td>-9.498746e+00</td>\n",
              "      <td>-7.213527e+00</td>\n",
              "      <td>-5.449772e+01</td>\n",
              "      <td>-3.483038e+01</td>\n",
              "      <td>-1.093314e+01</td>\n",
              "      <td>-4.480774e+01</td>\n",
              "      <td>-2.836627e+00</td>\n",
              "      <td>-1.029540e+01</td>\n",
              "      <td>-2.604551e+00</td>\n",
              "      <td>-2.256568e+01</td>\n",
              "      <td>-1.543008e+01</td>\n",
              "      <td>0.000000</td>\n",
              "      <td>0.000000</td>\n",
              "    </tr>\n",
              "    <tr>\n",
              "      <th>25%</th>\n",
              "      <td>54201.500000</td>\n",
              "      <td>-9.203734e-01</td>\n",
              "      <td>-5.985499e-01</td>\n",
              "      <td>-8.903648e-01</td>\n",
              "      <td>-8.486401e-01</td>\n",
              "      <td>-6.915971e-01</td>\n",
              "      <td>-7.682956e-01</td>\n",
              "      <td>-5.540759e-01</td>\n",
              "      <td>-2.086297e-01</td>\n",
              "      <td>-6.430976e-01</td>\n",
              "      <td>-5.354257e-01</td>\n",
              "      <td>-7.624942e-01</td>\n",
              "      <td>-4.055715e-01</td>\n",
              "      <td>-6.485393e-01</td>\n",
              "      <td>-4.255740e-01</td>\n",
              "      <td>-5.828843e-01</td>\n",
              "      <td>-4.680368e-01</td>\n",
              "      <td>-4.837483e-01</td>\n",
              "      <td>-4.988498e-01</td>\n",
              "      <td>-4.562989e-01</td>\n",
              "      <td>-2.117214e-01</td>\n",
              "      <td>-2.283949e-01</td>\n",
              "      <td>-5.423504e-01</td>\n",
              "      <td>-1.618463e-01</td>\n",
              "      <td>-3.545861e-01</td>\n",
              "      <td>-3.171451e-01</td>\n",
              "      <td>-3.269839e-01</td>\n",
              "      <td>-7.083953e-02</td>\n",
              "      <td>-5.295979e-02</td>\n",
              "      <td>5.600000</td>\n",
              "      <td>0.000000</td>\n",
              "    </tr>\n",
              "    <tr>\n",
              "      <th>50%</th>\n",
              "      <td>84692.000000</td>\n",
              "      <td>1.810880e-02</td>\n",
              "      <td>6.548556e-02</td>\n",
              "      <td>1.798463e-01</td>\n",
              "      <td>-1.984653e-02</td>\n",
              "      <td>-5.433583e-02</td>\n",
              "      <td>-2.741871e-01</td>\n",
              "      <td>4.010308e-02</td>\n",
              "      <td>2.235804e-02</td>\n",
              "      <td>-5.142873e-02</td>\n",
              "      <td>-9.291738e-02</td>\n",
              "      <td>-3.275735e-02</td>\n",
              "      <td>1.400326e-01</td>\n",
              "      <td>-1.356806e-02</td>\n",
              "      <td>5.060132e-02</td>\n",
              "      <td>4.807155e-02</td>\n",
              "      <td>6.641332e-02</td>\n",
              "      <td>-6.567575e-02</td>\n",
              "      <td>-3.636312e-03</td>\n",
              "      <td>3.734823e-03</td>\n",
              "      <td>-6.248109e-02</td>\n",
              "      <td>-2.945017e-02</td>\n",
              "      <td>6.781943e-03</td>\n",
              "      <td>-1.119293e-02</td>\n",
              "      <td>4.097606e-02</td>\n",
              "      <td>1.659350e-02</td>\n",
              "      <td>-5.213911e-02</td>\n",
              "      <td>1.342146e-03</td>\n",
              "      <td>1.124383e-02</td>\n",
              "      <td>22.000000</td>\n",
              "      <td>0.000000</td>\n",
              "    </tr>\n",
              "    <tr>\n",
              "      <th>75%</th>\n",
              "      <td>139320.500000</td>\n",
              "      <td>1.315642e+00</td>\n",
              "      <td>8.037239e-01</td>\n",
              "      <td>1.027196e+00</td>\n",
              "      <td>7.433413e-01</td>\n",
              "      <td>6.119264e-01</td>\n",
              "      <td>3.985649e-01</td>\n",
              "      <td>5.704361e-01</td>\n",
              "      <td>3.273459e-01</td>\n",
              "      <td>5.971390e-01</td>\n",
              "      <td>4.539234e-01</td>\n",
              "      <td>7.395934e-01</td>\n",
              "      <td>6.182380e-01</td>\n",
              "      <td>6.625050e-01</td>\n",
              "      <td>4.931498e-01</td>\n",
              "      <td>6.488208e-01</td>\n",
              "      <td>5.232963e-01</td>\n",
              "      <td>3.996750e-01</td>\n",
              "      <td>5.008067e-01</td>\n",
              "      <td>4.589494e-01</td>\n",
              "      <td>1.330408e-01</td>\n",
              "      <td>1.863772e-01</td>\n",
              "      <td>5.285536e-01</td>\n",
              "      <td>1.476421e-01</td>\n",
              "      <td>4.395266e-01</td>\n",
              "      <td>3.507156e-01</td>\n",
              "      <td>2.409522e-01</td>\n",
              "      <td>9.104512e-02</td>\n",
              "      <td>7.827995e-02</td>\n",
              "      <td>77.165000</td>\n",
              "      <td>0.000000</td>\n",
              "    </tr>\n",
              "    <tr>\n",
              "      <th>max</th>\n",
              "      <td>172792.000000</td>\n",
              "      <td>2.454930e+00</td>\n",
              "      <td>2.205773e+01</td>\n",
              "      <td>9.382558e+00</td>\n",
              "      <td>1.687534e+01</td>\n",
              "      <td>3.480167e+01</td>\n",
              "      <td>7.330163e+01</td>\n",
              "      <td>1.205895e+02</td>\n",
              "      <td>2.000721e+01</td>\n",
              "      <td>1.559499e+01</td>\n",
              "      <td>2.374514e+01</td>\n",
              "      <td>1.201891e+01</td>\n",
              "      <td>7.848392e+00</td>\n",
              "      <td>7.126883e+00</td>\n",
              "      <td>1.052677e+01</td>\n",
              "      <td>8.877742e+00</td>\n",
              "      <td>1.731511e+01</td>\n",
              "      <td>9.253526e+00</td>\n",
              "      <td>5.041069e+00</td>\n",
              "      <td>5.591971e+00</td>\n",
              "      <td>3.942090e+01</td>\n",
              "      <td>2.720284e+01</td>\n",
              "      <td>1.050309e+01</td>\n",
              "      <td>2.252841e+01</td>\n",
              "      <td>4.584549e+00</td>\n",
              "      <td>7.519589e+00</td>\n",
              "      <td>3.517346e+00</td>\n",
              "      <td>3.161220e+01</td>\n",
              "      <td>3.384781e+01</td>\n",
              "      <td>25691.160000</td>\n",
              "      <td>1.000000</td>\n",
              "    </tr>\n",
              "  </tbody>\n",
              "</table>\n",
              "</div>"
            ],
            "text/plain": [
              "                Time            V1  ...         Amount          Class\n",
              "count  284807.000000  2.848070e+05  ...  284807.000000  284807.000000\n",
              "mean    94813.859575  3.919560e-15  ...      88.349619       0.001727\n",
              "std     47488.145955  1.958696e+00  ...     250.120109       0.041527\n",
              "min         0.000000 -5.640751e+01  ...       0.000000       0.000000\n",
              "25%     54201.500000 -9.203734e-01  ...       5.600000       0.000000\n",
              "50%     84692.000000  1.810880e-02  ...      22.000000       0.000000\n",
              "75%    139320.500000  1.315642e+00  ...      77.165000       0.000000\n",
              "max    172792.000000  2.454930e+00  ...   25691.160000       1.000000\n",
              "\n",
              "[8 rows x 31 columns]"
            ]
          },
          "metadata": {
            "tags": []
          },
          "execution_count": 5
        }
      ]
    },
    {
      "cell_type": "markdown",
      "metadata": {
        "id": "aWy1h_divJ7R"
      },
      "source": [
        "<FONT COLOR=\"#FFFF00\">**Também é possível observar que a média de valor das transações é de 88.34. No entanto, ao agrupar por tipo de transação, é possível observar que esta média é representativa para as transações não fraudulentas. \n",
        "Em transações fraudulentas, a média do valor da transação foi maior (122.21).**</FONT> "
      ]
    },
    {
      "cell_type": "code",
      "metadata": {
        "colab": {
          "base_uri": "https://localhost:8080/",
          "height": 162
        },
        "id": "ZDz5tHM6ubvY",
        "outputId": "14e76161-073c-41c5-f087-d0f7e1338c4c"
      },
      "source": [
        "df.groupby([\"Class\"]).mean()"
      ],
      "execution_count": 6,
      "outputs": [
        {
          "output_type": "execute_result",
          "data": {
            "text/html": [
              "<div>\n",
              "<style scoped>\n",
              "    .dataframe tbody tr th:only-of-type {\n",
              "        vertical-align: middle;\n",
              "    }\n",
              "\n",
              "    .dataframe tbody tr th {\n",
              "        vertical-align: top;\n",
              "    }\n",
              "\n",
              "    .dataframe thead th {\n",
              "        text-align: right;\n",
              "    }\n",
              "</style>\n",
              "<table border=\"1\" class=\"dataframe\">\n",
              "  <thead>\n",
              "    <tr style=\"text-align: right;\">\n",
              "      <th></th>\n",
              "      <th>Time</th>\n",
              "      <th>V1</th>\n",
              "      <th>V2</th>\n",
              "      <th>V3</th>\n",
              "      <th>V4</th>\n",
              "      <th>V5</th>\n",
              "      <th>V6</th>\n",
              "      <th>V7</th>\n",
              "      <th>V8</th>\n",
              "      <th>V9</th>\n",
              "      <th>V10</th>\n",
              "      <th>V11</th>\n",
              "      <th>V12</th>\n",
              "      <th>V13</th>\n",
              "      <th>V14</th>\n",
              "      <th>V15</th>\n",
              "      <th>V16</th>\n",
              "      <th>V17</th>\n",
              "      <th>V18</th>\n",
              "      <th>V19</th>\n",
              "      <th>V20</th>\n",
              "      <th>V21</th>\n",
              "      <th>V22</th>\n",
              "      <th>V23</th>\n",
              "      <th>V24</th>\n",
              "      <th>V25</th>\n",
              "      <th>V26</th>\n",
              "      <th>V27</th>\n",
              "      <th>V28</th>\n",
              "      <th>Amount</th>\n",
              "    </tr>\n",
              "    <tr>\n",
              "      <th>Class</th>\n",
              "      <th></th>\n",
              "      <th></th>\n",
              "      <th></th>\n",
              "      <th></th>\n",
              "      <th></th>\n",
              "      <th></th>\n",
              "      <th></th>\n",
              "      <th></th>\n",
              "      <th></th>\n",
              "      <th></th>\n",
              "      <th></th>\n",
              "      <th></th>\n",
              "      <th></th>\n",
              "      <th></th>\n",
              "      <th></th>\n",
              "      <th></th>\n",
              "      <th></th>\n",
              "      <th></th>\n",
              "      <th></th>\n",
              "      <th></th>\n",
              "      <th></th>\n",
              "      <th></th>\n",
              "      <th></th>\n",
              "      <th></th>\n",
              "      <th></th>\n",
              "      <th></th>\n",
              "      <th></th>\n",
              "      <th></th>\n",
              "      <th></th>\n",
              "      <th></th>\n",
              "    </tr>\n",
              "  </thead>\n",
              "  <tbody>\n",
              "    <tr>\n",
              "      <th>0</th>\n",
              "      <td>94838.202258</td>\n",
              "      <td>0.008258</td>\n",
              "      <td>-0.006271</td>\n",
              "      <td>0.012171</td>\n",
              "      <td>-0.007860</td>\n",
              "      <td>0.005453</td>\n",
              "      <td>0.002419</td>\n",
              "      <td>0.009637</td>\n",
              "      <td>-0.000987</td>\n",
              "      <td>0.004467</td>\n",
              "      <td>0.009824</td>\n",
              "      <td>-0.006576</td>\n",
              "      <td>0.010832</td>\n",
              "      <td>0.000189</td>\n",
              "      <td>0.012064</td>\n",
              "      <td>0.000161</td>\n",
              "      <td>0.007164</td>\n",
              "      <td>0.011535</td>\n",
              "      <td>0.003887</td>\n",
              "      <td>-0.001178</td>\n",
              "      <td>-0.000644</td>\n",
              "      <td>-0.001235</td>\n",
              "      <td>-0.000024</td>\n",
              "      <td>0.000070</td>\n",
              "      <td>0.000182</td>\n",
              "      <td>-0.000072</td>\n",
              "      <td>-0.000089</td>\n",
              "      <td>-0.000295</td>\n",
              "      <td>-0.000131</td>\n",
              "      <td>88.291022</td>\n",
              "    </tr>\n",
              "    <tr>\n",
              "      <th>1</th>\n",
              "      <td>80746.806911</td>\n",
              "      <td>-4.771948</td>\n",
              "      <td>3.623778</td>\n",
              "      <td>-7.033281</td>\n",
              "      <td>4.542029</td>\n",
              "      <td>-3.151225</td>\n",
              "      <td>-1.397737</td>\n",
              "      <td>-5.568731</td>\n",
              "      <td>0.570636</td>\n",
              "      <td>-2.581123</td>\n",
              "      <td>-5.676883</td>\n",
              "      <td>3.800173</td>\n",
              "      <td>-6.259393</td>\n",
              "      <td>-0.109334</td>\n",
              "      <td>-6.971723</td>\n",
              "      <td>-0.092929</td>\n",
              "      <td>-4.139946</td>\n",
              "      <td>-6.665836</td>\n",
              "      <td>-2.246308</td>\n",
              "      <td>0.680659</td>\n",
              "      <td>0.372319</td>\n",
              "      <td>0.713588</td>\n",
              "      <td>0.014049</td>\n",
              "      <td>-0.040308</td>\n",
              "      <td>-0.105130</td>\n",
              "      <td>0.041449</td>\n",
              "      <td>0.051648</td>\n",
              "      <td>0.170575</td>\n",
              "      <td>0.075667</td>\n",
              "      <td>122.211321</td>\n",
              "    </tr>\n",
              "  </tbody>\n",
              "</table>\n",
              "</div>"
            ],
            "text/plain": [
              "               Time        V1        V2  ...       V27       V28      Amount\n",
              "Class                                    ...                                \n",
              "0      94838.202258  0.008258 -0.006271  ... -0.000295 -0.000131   88.291022\n",
              "1      80746.806911 -4.771948  3.623778  ...  0.170575  0.075667  122.211321\n",
              "\n",
              "[2 rows x 30 columns]"
            ]
          },
          "metadata": {
            "tags": []
          },
          "execution_count": 6
        }
      ]
    },
    {
      "cell_type": "markdown",
      "metadata": {
        "id": "TQW1dgxBwR3G"
      },
      "source": [
        "Não foram encontrados valores ausentes:"
      ]
    },
    {
      "cell_type": "code",
      "metadata": {
        "colab": {
          "base_uri": "https://localhost:8080/"
        },
        "id": "xnj5KfuXwXCE",
        "outputId": "13a31b52-7f97-455c-e763-1f5d1b8646ca"
      },
      "source": [
        "# ver se há valores ausentes\n",
        "df.isnull().sum()"
      ],
      "execution_count": 7,
      "outputs": [
        {
          "output_type": "execute_result",
          "data": {
            "text/plain": [
              "Time      0\n",
              "V1        0\n",
              "V2        0\n",
              "V3        0\n",
              "V4        0\n",
              "V5        0\n",
              "V6        0\n",
              "V7        0\n",
              "V8        0\n",
              "V9        0\n",
              "V10       0\n",
              "V11       0\n",
              "V12       0\n",
              "V13       0\n",
              "V14       0\n",
              "V15       0\n",
              "V16       0\n",
              "V17       0\n",
              "V18       0\n",
              "V19       0\n",
              "V20       0\n",
              "V21       0\n",
              "V22       0\n",
              "V23       0\n",
              "V24       0\n",
              "V25       0\n",
              "V26       0\n",
              "V27       0\n",
              "V28       0\n",
              "Amount    0\n",
              "Class     0\n",
              "dtype: int64"
            ]
          },
          "metadata": {
            "tags": []
          },
          "execution_count": 7
        }
      ]
    },
    {
      "cell_type": "markdown",
      "metadata": {
        "id": "9skikSfEwrV_"
      },
      "source": [
        "Visualização gráfica da quantidade de transações fraudulentas no Dataset:"
      ]
    },
    {
      "cell_type": "code",
      "metadata": {
        "colab": {
          "base_uri": "https://localhost:8080/"
        },
        "id": "azl7MpjbwqgO",
        "outputId": "68092656-c502-4db7-d8f2-fcdb76b647a7"
      },
      "source": [
        "#quantidade de transações não-fraudulentas(0) e fraudulentas(1)\n",
        "print(df.Class.value_counts())\n",
        "print(\"\\nA porcentagem neste conjunto é de {:.2f}% de fraudes.\".format(df[df.Class == 1].shape[0] / df.shape[0] * 100))"
      ],
      "execution_count": 8,
      "outputs": [
        {
          "output_type": "stream",
          "text": [
            "0    284315\n",
            "1       492\n",
            "Name: Class, dtype: int64\n",
            "\n",
            "A porcentagem neste conjunto é de 0.17% de fraudes.\n"
          ],
          "name": "stdout"
        }
      ]
    },
    {
      "cell_type": "code",
      "metadata": {
        "colab": {
          "base_uri": "https://localhost:8080/",
          "height": 351
        },
        "id": "irOUhgpgzC43",
        "outputId": "d04d957d-2950-4995-f254-cc979a1ff386"
      },
      "source": [
        "#gráfico de barras para as classes:\n",
        "fig, ax = plt.subplots()\n",
        "sns.countplot(\"Class\", data=df, ax=ax)\n",
        "plt.tight_layout()"
      ],
      "execution_count": 9,
      "outputs": [
        {
          "output_type": "stream",
          "text": [
            "/usr/local/lib/python3.7/dist-packages/seaborn/_decorators.py:43: FutureWarning: Pass the following variable as a keyword arg: x. From version 0.12, the only valid positional argument will be `data`, and passing other arguments without an explicit keyword will result in an error or misinterpretation.\n",
            "  FutureWarning\n"
          ],
          "name": "stderr"
        },
        {
          "output_type": "display_data",
          "data": {
            "image/png": "[encoded data removed]",
            "text/plain": [
              "<Figure size 432x288 with 1 Axes>"
            ]
          },
          "metadata": {
            "tags": []
          }
        }
      ]
    },
    {
      "cell_type": "code",
      "metadata": {
        "colab": {
          "base_uri": "https://localhost:8080/",
          "height": 142
        },
        "id": "c9Ik6MuOAe7W",
        "outputId": "45f1ed26-10d7-4589-fdcd-f7afbab995a7"
      },
      "source": [
        "df.groupby([\"Class\"])['Amount'].describe()"
      ],
      "execution_count": 10,
      "outputs": [
        {
          "output_type": "execute_result",
          "data": {
            "text/html": [
              "<div>\n",
              "<style scoped>\n",
              "    .dataframe tbody tr th:only-of-type {\n",
              "        vertical-align: middle;\n",
              "    }\n",
              "\n",
              "    .dataframe tbody tr th {\n",
              "        vertical-align: top;\n",
              "    }\n",
              "\n",
              "    .dataframe thead th {\n",
              "        text-align: right;\n",
              "    }\n",
              "</style>\n",
              "<table border=\"1\" class=\"dataframe\">\n",
              "  <thead>\n",
              "    <tr style=\"text-align: right;\">\n",
              "      <th></th>\n",
              "      <th>count</th>\n",
              "      <th>mean</th>\n",
              "      <th>std</th>\n",
              "      <th>min</th>\n",
              "      <th>25%</th>\n",
              "      <th>50%</th>\n",
              "      <th>75%</th>\n",
              "      <th>max</th>\n",
              "    </tr>\n",
              "    <tr>\n",
              "      <th>Class</th>\n",
              "      <th></th>\n",
              "      <th></th>\n",
              "      <th></th>\n",
              "      <th></th>\n",
              "      <th></th>\n",
              "      <th></th>\n",
              "      <th></th>\n",
              "      <th></th>\n",
              "    </tr>\n",
              "  </thead>\n",
              "  <tbody>\n",
              "    <tr>\n",
              "      <th>0</th>\n",
              "      <td>284315.0</td>\n",
              "      <td>88.291022</td>\n",
              "      <td>250.105092</td>\n",
              "      <td>0.0</td>\n",
              "      <td>5.65</td>\n",
              "      <td>22.00</td>\n",
              "      <td>77.05</td>\n",
              "      <td>25691.16</td>\n",
              "    </tr>\n",
              "    <tr>\n",
              "      <th>1</th>\n",
              "      <td>492.0</td>\n",
              "      <td>122.211321</td>\n",
              "      <td>256.683288</td>\n",
              "      <td>0.0</td>\n",
              "      <td>1.00</td>\n",
              "      <td>9.25</td>\n",
              "      <td>105.89</td>\n",
              "      <td>2125.87</td>\n",
              "    </tr>\n",
              "  </tbody>\n",
              "</table>\n",
              "</div>"
            ],
            "text/plain": [
              "          count        mean         std  min   25%    50%     75%       max\n",
              "Class                                                                      \n",
              "0      284315.0   88.291022  250.105092  0.0  5.65  22.00   77.05  25691.16\n",
              "1         492.0  122.211321  256.683288  0.0  1.00   9.25  105.89   2125.87"
            ]
          },
          "metadata": {
            "tags": []
          },
          "execution_count": 10
        }
      ]
    },
    {
      "cell_type": "markdown",
      "metadata": {
        "id": "d0Q9DOOQArIv"
      },
      "source": [
        "O número de fraudes detectado neste dataset é de 492 fraudes. A média de valor destas transações fraudulentas foi de 122.21\n",
        "\n",
        "No entanto, a mediana indica o valor de 9.25\n",
        "\n",
        "Observa-se então que metade destas transações tiveram valores inferiores a 9.25"
      ]
    },
    {
      "cell_type": "code",
      "metadata": {
        "colab": {
          "base_uri": "https://localhost:8080/",
          "height": 423
        },
        "id": "vaCGgpkNBU5B",
        "outputId": "eacd3acc-935b-4f18-e0f5-b25c149b8809"
      },
      "source": [
        "fig, ax = plt.subplots(figsize=(8,5), sharex=True)\n",
        "\n",
        "sns.boxplot(df.Class, df.Amount, showmeans=True, ax=ax)\n",
        "plt.ylim((0, 300))\n",
        "plt.xticks([0, 1], ['Normais', 'Fraudes'])\n",
        "\n",
        "plt.tight_layout()"
      ],
      "execution_count": 11,
      "outputs": [
        {
          "output_type": "stream",
          "text": [
            "/usr/local/lib/python3.7/dist-packages/seaborn/_decorators.py:43: FutureWarning: Pass the following variables as keyword args: x, y. From version 0.12, the only valid positional argument will be `data`, and passing other arguments without an explicit keyword will result in an error or misinterpretation.\n",
            "  FutureWarning\n"
          ],
          "name": "stderr"
        },
        {
          "output_type": "display_data",
          "data": {
            "image/png": "[encoded data removed]",
            "text/plain": [
              "<Figure size 576x360 with 1 Axes>"
            ]
          },
          "metadata": {
            "tags": []
          }
        }
      ]
    },
    {
      "cell_type": "markdown",
      "metadata": {
        "id": "qxlN2LxM92BX"
      },
      "source": [
        "No geral, percebe-se uma distribuição diferente para as duas classes, o que provavelmente irá contribuir para o treinamento do modelo de *machine learning*."
      ]
    },
    {
      "cell_type": "markdown",
      "metadata": {
        "id": "ULe7z0jZt0EH"
      },
      "source": [
        "## Preparação dos Dados\n",
        "\n",
        "Para alimentar o modelo, todos os dados precisam estar normalizados. Por isso as features `Time` e `Amount` serão normalizadas.\n",
        "Como é possível observar a presença de outliers através do boxplot,  a padronização será por meio da classe `StandardScaler`."
      ]
    },
    {
      "cell_type": "code",
      "metadata": {
        "id": "IqfjG_SUSTi-",
        "colab": {
          "base_uri": "https://localhost:8080/",
          "height": 224
        },
        "outputId": "219911c7-86b2-4d7d-b41e-2b756a4ca86a"
      },
      "source": [
        "# padronizar as colunas Time e Amount\n",
        "df_clean = df.copy()\n",
        "\n",
        "#reshape\n",
        "scaler = StandardScaler()\n",
        "df_clean['Amount'] = scaler.fit_transform(df_clean['Amount'].values.reshape(-1, 1))\n",
        "df_clean['Time'] = scaler.fit_transform(df_clean['Time'].values.reshape(-1, 1))\n",
        "\n",
        "# ver as primeiras entradas\n",
        "df_clean.head()"
      ],
      "execution_count": 12,
      "outputs": [
        {
          "output_type": "execute_result",
          "data": {
            "text/html": [
              "<div>\n",
              "<style scoped>\n",
              "    .dataframe tbody tr th:only-of-type {\n",
              "        vertical-align: middle;\n",
              "    }\n",
              "\n",
              "    .dataframe tbody tr th {\n",
              "        vertical-align: top;\n",
              "    }\n",
              "\n",
              "    .dataframe thead th {\n",
              "        text-align: right;\n",
              "    }\n",
              "</style>\n",
              "<table border=\"1\" class=\"dataframe\">\n",
              "  <thead>\n",
              "    <tr style=\"text-align: right;\">\n",
              "      <th></th>\n",
              "      <th>Time</th>\n",
              "      <th>V1</th>\n",
              "      <th>V2</th>\n",
              "      <th>V3</th>\n",
              "      <th>V4</th>\n",
              "      <th>V5</th>\n",
              "      <th>V6</th>\n",
              "      <th>V7</th>\n",
              "      <th>V8</th>\n",
              "      <th>V9</th>\n",
              "      <th>V10</th>\n",
              "      <th>V11</th>\n",
              "      <th>V12</th>\n",
              "      <th>V13</th>\n",
              "      <th>V14</th>\n",
              "      <th>V15</th>\n",
              "      <th>V16</th>\n",
              "      <th>V17</th>\n",
              "      <th>V18</th>\n",
              "      <th>V19</th>\n",
              "      <th>V20</th>\n",
              "      <th>V21</th>\n",
              "      <th>V22</th>\n",
              "      <th>V23</th>\n",
              "      <th>V24</th>\n",
              "      <th>V25</th>\n",
              "      <th>V26</th>\n",
              "      <th>V27</th>\n",
              "      <th>V28</th>\n",
              "      <th>Amount</th>\n",
              "      <th>Class</th>\n",
              "    </tr>\n",
              "  </thead>\n",
              "  <tbody>\n",
              "    <tr>\n",
              "      <th>0</th>\n",
              "      <td>-1.996583</td>\n",
              "      <td>-1.359807</td>\n",
              "      <td>-0.072781</td>\n",
              "      <td>2.536347</td>\n",
              "      <td>1.378155</td>\n",
              "      <td>-0.338321</td>\n",
              "      <td>0.462388</td>\n",
              "      <td>0.239599</td>\n",
              "      <td>0.098698</td>\n",
              "      <td>0.363787</td>\n",
              "      <td>0.090794</td>\n",
              "      <td>-0.551600</td>\n",
              "      <td>-0.617801</td>\n",
              "      <td>-0.991390</td>\n",
              "      <td>-0.311169</td>\n",
              "      <td>1.468177</td>\n",
              "      <td>-0.470401</td>\n",
              "      <td>0.207971</td>\n",
              "      <td>0.025791</td>\n",
              "      <td>0.403993</td>\n",
              "      <td>0.251412</td>\n",
              "      <td>-0.018307</td>\n",
              "      <td>0.277838</td>\n",
              "      <td>-0.110474</td>\n",
              "      <td>0.066928</td>\n",
              "      <td>0.128539</td>\n",
              "      <td>-0.189115</td>\n",
              "      <td>0.133558</td>\n",
              "      <td>-0.021053</td>\n",
              "      <td>0.244964</td>\n",
              "      <td>0</td>\n",
              "    </tr>\n",
              "    <tr>\n",
              "      <th>1</th>\n",
              "      <td>-1.996583</td>\n",
              "      <td>1.191857</td>\n",
              "      <td>0.266151</td>\n",
              "      <td>0.166480</td>\n",
              "      <td>0.448154</td>\n",
              "      <td>0.060018</td>\n",
              "      <td>-0.082361</td>\n",
              "      <td>-0.078803</td>\n",
              "      <td>0.085102</td>\n",
              "      <td>-0.255425</td>\n",
              "      <td>-0.166974</td>\n",
              "      <td>1.612727</td>\n",
              "      <td>1.065235</td>\n",
              "      <td>0.489095</td>\n",
              "      <td>-0.143772</td>\n",
              "      <td>0.635558</td>\n",
              "      <td>0.463917</td>\n",
              "      <td>-0.114805</td>\n",
              "      <td>-0.183361</td>\n",
              "      <td>-0.145783</td>\n",
              "      <td>-0.069083</td>\n",
              "      <td>-0.225775</td>\n",
              "      <td>-0.638672</td>\n",
              "      <td>0.101288</td>\n",
              "      <td>-0.339846</td>\n",
              "      <td>0.167170</td>\n",
              "      <td>0.125895</td>\n",
              "      <td>-0.008983</td>\n",
              "      <td>0.014724</td>\n",
              "      <td>-0.342475</td>\n",
              "      <td>0</td>\n",
              "    </tr>\n",
              "    <tr>\n",
              "      <th>2</th>\n",
              "      <td>-1.996562</td>\n",
              "      <td>-1.358354</td>\n",
              "      <td>-1.340163</td>\n",
              "      <td>1.773209</td>\n",
              "      <td>0.379780</td>\n",
              "      <td>-0.503198</td>\n",
              "      <td>1.800499</td>\n",
              "      <td>0.791461</td>\n",
              "      <td>0.247676</td>\n",
              "      <td>-1.514654</td>\n",
              "      <td>0.207643</td>\n",
              "      <td>0.624501</td>\n",
              "      <td>0.066084</td>\n",
              "      <td>0.717293</td>\n",
              "      <td>-0.165946</td>\n",
              "      <td>2.345865</td>\n",
              "      <td>-2.890083</td>\n",
              "      <td>1.109969</td>\n",
              "      <td>-0.121359</td>\n",
              "      <td>-2.261857</td>\n",
              "      <td>0.524980</td>\n",
              "      <td>0.247998</td>\n",
              "      <td>0.771679</td>\n",
              "      <td>0.909412</td>\n",
              "      <td>-0.689281</td>\n",
              "      <td>-0.327642</td>\n",
              "      <td>-0.139097</td>\n",
              "      <td>-0.055353</td>\n",
              "      <td>-0.059752</td>\n",
              "      <td>1.160686</td>\n",
              "      <td>0</td>\n",
              "    </tr>\n",
              "    <tr>\n",
              "      <th>3</th>\n",
              "      <td>-1.996562</td>\n",
              "      <td>-0.966272</td>\n",
              "      <td>-0.185226</td>\n",
              "      <td>1.792993</td>\n",
              "      <td>-0.863291</td>\n",
              "      <td>-0.010309</td>\n",
              "      <td>1.247203</td>\n",
              "      <td>0.237609</td>\n",
              "      <td>0.377436</td>\n",
              "      <td>-1.387024</td>\n",
              "      <td>-0.054952</td>\n",
              "      <td>-0.226487</td>\n",
              "      <td>0.178228</td>\n",
              "      <td>0.507757</td>\n",
              "      <td>-0.287924</td>\n",
              "      <td>-0.631418</td>\n",
              "      <td>-1.059647</td>\n",
              "      <td>-0.684093</td>\n",
              "      <td>1.965775</td>\n",
              "      <td>-1.232622</td>\n",
              "      <td>-0.208038</td>\n",
              "      <td>-0.108300</td>\n",
              "      <td>0.005274</td>\n",
              "      <td>-0.190321</td>\n",
              "      <td>-1.175575</td>\n",
              "      <td>0.647376</td>\n",
              "      <td>-0.221929</td>\n",
              "      <td>0.062723</td>\n",
              "      <td>0.061458</td>\n",
              "      <td>0.140534</td>\n",
              "      <td>0</td>\n",
              "    </tr>\n",
              "    <tr>\n",
              "      <th>4</th>\n",
              "      <td>-1.996541</td>\n",
              "      <td>-1.158233</td>\n",
              "      <td>0.877737</td>\n",
              "      <td>1.548718</td>\n",
              "      <td>0.403034</td>\n",
              "      <td>-0.407193</td>\n",
              "      <td>0.095921</td>\n",
              "      <td>0.592941</td>\n",
              "      <td>-0.270533</td>\n",
              "      <td>0.817739</td>\n",
              "      <td>0.753074</td>\n",
              "      <td>-0.822843</td>\n",
              "      <td>0.538196</td>\n",
              "      <td>1.345852</td>\n",
              "      <td>-1.119670</td>\n",
              "      <td>0.175121</td>\n",
              "      <td>-0.451449</td>\n",
              "      <td>-0.237033</td>\n",
              "      <td>-0.038195</td>\n",
              "      <td>0.803487</td>\n",
              "      <td>0.408542</td>\n",
              "      <td>-0.009431</td>\n",
              "      <td>0.798278</td>\n",
              "      <td>-0.137458</td>\n",
              "      <td>0.141267</td>\n",
              "      <td>-0.206010</td>\n",
              "      <td>0.502292</td>\n",
              "      <td>0.219422</td>\n",
              "      <td>0.215153</td>\n",
              "      <td>-0.073403</td>\n",
              "      <td>0</td>\n",
              "    </tr>\n",
              "  </tbody>\n",
              "</table>\n",
              "</div>"
            ],
            "text/plain": [
              "       Time        V1        V2        V3  ...       V27       V28    Amount  Class\n",
              "0 -1.996583 -1.359807 -0.072781  2.536347  ...  0.133558 -0.021053  0.244964      0\n",
              "1 -1.996583  1.191857  0.266151  0.166480  ... -0.008983  0.014724 -0.342475      0\n",
              "2 -1.996562 -1.358354 -1.340163  1.773209  ... -0.055353 -0.059752  1.160686      0\n",
              "3 -1.996562 -0.966272 -0.185226  1.792993  ...  0.062723  0.061458  0.140534      0\n",
              "4 -1.996541 -1.158233  0.877737  1.548718  ...  0.219422  0.215153 -0.073403      0\n",
              "\n",
              "[5 rows x 31 columns]"
            ]
          },
          "metadata": {
            "tags": []
          },
          "execution_count": 12
        }
      ]
    },
    {
      "cell_type": "markdown",
      "metadata": {
        "id": "xXdFZgt1Hptt"
      },
      "source": [
        "##Dividir Dados de Treino e Dados de Teste\n",
        "\n",
        "A divivisão do dataset em:\n",
        "* Conjunto de Treino\n",
        "* Conjunto para Teste\n",
        "\n",
        "Deve manter a mesma proporção de  classes, para isso será utilizado `stratify=True`"
      ]
    },
    {
      "cell_type": "code",
      "metadata": {
        "id": "F8pTrAJjISUm"
      },
      "source": [
        "# Y contém a classe das operações\n",
        "y = df['Class']\n",
        "\n",
        "# X contém as demais variáveis\n",
        "X = df_clean.drop('Class', axis=1)\n",
        "\n",
        "\n",
        "# conjunto de treino e conjunto de teste\n",
        "X_train, X_test, y_train, y_test = train_test_split(X, y, stratify=y, shuffle=True)"
      ],
      "execution_count": 13,
      "outputs": []
    },
    {
      "cell_type": "markdown",
      "metadata": {
        "id": "G4xvJHQrJZuD"
      },
      "source": [
        "## Balanceamento dos Dados\n",
        "Para balancear os dados foi utilizada a biblioteca `imblearn.under_sampling`. Para preservar os dados de operações fraudulentas (classe com menor representatividade), a opção neste projeto foi usar `Under-Sampling`."
      ]
    },
    {
      "cell_type": "code",
      "metadata": {
        "colab": {
          "base_uri": "https://localhost:8080/",
          "height": 404
        },
        "id": "rVNpCfGxKPBB",
        "outputId": "ea13db8e-71b6-40f4-cb82-22de897035cd"
      },
      "source": [
        "# técnica Under-Sampling\n",
        "US = RandomUnderSampler()\n",
        "X_US, y_US = US.fit_sample(X_train, y_train)\n",
        "\n",
        "# visão do balanceamento\n",
        "print(pd.Series(y_US).value_counts())\n",
        "\n",
        "# plotar a nova distribuição de classes\n",
        "sns.countplot(y_US);"
      ],
      "execution_count": 14,
      "outputs": [
        {
          "output_type": "stream",
          "text": [
            "1    369\n",
            "0    369\n",
            "dtype: int64\n"
          ],
          "name": "stdout"
        },
        {
          "output_type": "stream",
          "text": [
            "/usr/local/lib/python3.7/dist-packages/sklearn/utils/deprecation.py:87: FutureWarning: Function safe_indexing is deprecated; safe_indexing is deprecated in version 0.22 and will be removed in version 0.24.\n",
            "  warnings.warn(msg, category=FutureWarning)\n",
            "/usr/local/lib/python3.7/dist-packages/seaborn/_decorators.py:43: FutureWarning: Pass the following variable as a keyword arg: x. From version 0.12, the only valid positional argument will be `data`, and passing other arguments without an explicit keyword will result in an error or misinterpretation.\n",
            "  FutureWarning\n"
          ],
          "name": "stderr"
        },
        {
          "output_type": "display_data",
          "data": {
            "image/png": "[encoded data removed]",
            "text/plain": [
              "<Figure size 432x288 with 1 Axes>"
            ]
          },
          "metadata": {
            "tags": []
          }
        }
      ]
    },
    {
      "cell_type": "markdown",
      "metadata": {
        "id": "MwtguEO9K9Wd"
      },
      "source": [
        "Após o balanceamento dos dados é possível estabelecer as variáveis que estão mais fortemente correlacionadas. O mapa de calor abaixo mostra a diferença dos dados desbalanceados e balanceados, indicando a correlação entre as variáveis."
      ]
    },
    {
      "cell_type": "code",
      "metadata": {
        "colab": {
          "base_uri": "https://localhost:8080/",
          "height": 241
        },
        "id": "tf-oLvJWLQY-",
        "outputId": "b6f59db5-eb30-43f7-ac2a-ba5e2eb66d95"
      },
      "source": [
        "# matriz de correlação das variáveis armazenadas em X\n",
        "corr = X_train.corr() #dados de treino\n",
        "corr_US = pd.DataFrame(X_US).corr() #dados balanceados\n",
        "\n",
        "\n",
        "fig, ax = plt.subplots(1, 2, figsize = (10,3))\n",
        "\n",
        "sns.heatmap(corr, linewidths=.01, cmap=\"coolwarm\", ax=ax[0])\n",
        "ax[0].set_title('Desbalanceado')\n",
        "\n",
        "sns.heatmap(corr_US, linewidths=.01, cmap=\"coolwarm\", ax=ax[1])\n",
        "ax[1].set_title('Balanceado')\n",
        "\n",
        "plt.show()"
      ],
      "execution_count": 15,
      "outputs": [
        {
          "output_type": "display_data",
          "data": {
            "image/png": "[encoded data removed]",
            "text/plain": [
              "<Figure size 720x216 with 4 Axes>"
            ]
          },
          "metadata": {
            "tags": []
          }
        }
      ]
    },
    {
      "cell_type": "markdown",
      "metadata": {
        "id": "wJNH5qcjRxfX"
      },
      "source": [
        "## Modelos de Machine Learning\n",
        "### Modelo de Regressão Logística\n",
        "\n",
        "Primeiramente, o modelo foi treinado a partir de Regressão Logística, que é considerada uma técnica estatística simples para a predição de valores tomados por uma variável categórica, frequentemente binária."
      ]
    },
    {
      "cell_type": "code",
      "metadata": {
        "id": "lDySx8XUSMw_"
      },
      "source": [
        "# modelo de Regressão Logística\n",
        "np.random.seed(2)\n",
        "model_RL = LogisticRegression()\n",
        "model_RL.fit(X_US, y_US)\n",
        "\n",
        "# previsão\n",
        "y_predict = model_RL.predict(X_test)\n",
        "y_proba = model_RL.predict_proba(X_test)"
      ],
      "execution_count": 16,
      "outputs": []
    },
    {
      "cell_type": "markdown",
      "metadata": {
        "id": "QAByt38Bar58"
      },
      "source": [
        "O `y_predict` armazena um array contendo a classificação da previsão para os dados de teste.\n",
        "O `y_proba`armazena as probabilidades de cada item classificado por meio da previsão do modelo de Regressão Logística."
      ]
    },
    {
      "cell_type": "code",
      "metadata": {
        "colab": {
          "base_uri": "https://localhost:8080/"
        },
        "id": "-kjIV5GpYY4n",
        "outputId": "dbaaf05b-dcea-4f24-a48d-2d0de3ff15fb"
      },
      "source": [
        "y_predict"
      ],
      "execution_count": 17,
      "outputs": [
        {
          "output_type": "execute_result",
          "data": {
            "text/plain": [
              "array([0, 0, 0, ..., 0, 0, 0])"
            ]
          },
          "metadata": {
            "tags": []
          },
          "execution_count": 17
        }
      ]
    },
    {
      "cell_type": "code",
      "metadata": {
        "colab": {
          "base_uri": "https://localhost:8080/"
        },
        "id": "Sh5JwuydYjbE",
        "outputId": "197f5e20-2ac9-4f08-9389-be328b4bb1fd"
      },
      "source": [
        "y_proba"
      ],
      "execution_count": 18,
      "outputs": [
        {
          "output_type": "execute_result",
          "data": {
            "text/plain": [
              "array([[0.87863676, 0.12136324],\n",
              "       [0.98720356, 0.01279644],\n",
              "       [0.98632631, 0.01367369],\n",
              "       ...,\n",
              "       [0.99349066, 0.00650934],\n",
              "       [0.97686658, 0.02313342],\n",
              "       [0.76191345, 0.23808655]])"
            ]
          },
          "metadata": {
            "tags": []
          },
          "execution_count": 18
        }
      ]
    },
    {
      "cell_type": "code",
      "metadata": {
        "colab": {
          "base_uri": "https://localhost:8080/",
          "height": 533
        },
        "id": "3f_koTCi1ik8",
        "outputId": "55a73877-f000-46a4-90e6-0fa368d2364a"
      },
      "source": [
        "# plotar a matrix de confusão\n",
        "skplt.metrics.plot_confusion_matrix(y_test, y_predict, normalize=True)\n",
        "\n",
        "# imprimir relatório de classificação\n",
        "print(\"Relatório de Classificação:\\n\", classification_report(y_test, y_predict, digits=4))\n",
        "\n",
        "# imprimir a acurácia do modelo\n",
        "print(\"Acurácia: {:.4f}\\n\".format(accuracy_score(y_test, y_predict)))\n",
        "\n",
        "# imprimir a área sob da curva\n",
        "print(\"AUC: {:.4f}\\n\".format(roc_auc_score(y_test, y_predict)))"
      ],
      "execution_count": 19,
      "outputs": [
        {
          "output_type": "stream",
          "text": [
            "Relatório de Classificação:\n",
            "               precision    recall  f1-score   support\n",
            "\n",
            "           0     0.9998    0.9714    0.9854     71079\n",
            "           1     0.0517    0.9024    0.0978       123\n",
            "\n",
            "    accuracy                         0.9712     71202\n",
            "   macro avg     0.5258    0.9369    0.5416     71202\n",
            "weighted avg     0.9982    0.9712    0.9839     71202\n",
            "\n",
            "Acurácia: 0.9712\n",
            "\n",
            "AUC: 0.9369\n",
            "\n"
          ],
          "name": "stdout"
        },
        {
          "output_type": "display_data",
          "data": {
            "image/png": "[encoded data removed]",
            "text/plain": [
              "<Figure size 432x288 with 2 Axes>"
            ]
          },
          "metadata": {
            "tags": []
          }
        }
      ]
    },
    {
      "cell_type": "markdown",
      "metadata": {
        "id": "p00cE74r194_"
      },
      "source": [
        "## Avaliação do desempenho do modelo de Regressão Logística"
      ]
    },
    {
      "cell_type": "markdown",
      "metadata": {
        "id": "MPyLi1GI9nf9"
      },
      "source": [
        "Como o problema encontra-se originalmente desbalanceado, a acurácia não é uma métrica adequada. No blog [Sigmoidal](http://sigmoidal.ai/como-lidar-com-dados-desbalanceados/), é possível entender que a acurácia pode ser elevada e detectar menos de 60% das fraudes.\n",
        "\n",
        "Observe a matriz de confusão para ver a taxa de acertos para transações fraudulentes, ou pela coluna *recall* do Relatório de Classificação. \n",
        "\n",
        "Uma métrica interessante para se avaliar a eficácia é a [AUC ROC](https://medium.com/bio-data-blog/entenda-o-que-%C3%A9-auc-e-roc-nos-modelos-de-machine-learning-8191fb4df772), a área sob a curva. No caso desse modelo de Regressão Logística, tem-se 93.7% de AUC."
      ]
    },
    {
      "cell_type": "markdown",
      "metadata": {
        "id": "84EuMInjw7ZP"
      },
      "source": [
        "### Modelo Support Vector Machines (SVM)\n",
        "\n",
        "SVM é um algoritmo de classificação binária. Dispondo as observações em um plano procuram otimizar as margens que melhor separam as observações. Neste trabalho, foram aplicados os métodos chamados de Support Vector Classifier (SVC)."
      ]
    },
    {
      "cell_type": "code",
      "metadata": {
        "id": "32WQG3-s0dHR"
      },
      "source": [
        "# modelo SVM\n",
        "model_SVM = svm.SVC()\n",
        "model_SVM.fit(X_US, y_US)\n",
        "\n",
        "# previsão\n",
        "y_predict_new = model_SVM.predict(X_test)\n"
      ],
      "execution_count": 24,
      "outputs": []
    },
    {
      "cell_type": "markdown",
      "metadata": {
        "id": "3e4ENOTYSUXi"
      },
      "source": [
        "## Avaliação do desempenho do modelo SVM\n",
        "\n",
        "É possível observar que embora a quantidade de detectar fraudes foi maior no modelo SVM-SVC, a quantidade de falsos positivos aumentou de 0.10 no modelo anterior para 0.14\n"
      ]
    },
    {
      "cell_type": "code",
      "metadata": {
        "id": "eZtsLZ2x9mff",
        "colab": {
          "base_uri": "https://localhost:8080/",
          "height": 533
        },
        "outputId": "b7be1d61-fb6d-4cc4-e992-9e64c3be9d03"
      },
      "source": [
        "# plotar a matrix de confusão\n",
        "skplt.metrics.plot_confusion_matrix(y_test, y_predict_new, normalize=True)\n",
        "\n",
        "# imprimir relatório de classificação\n",
        "print(\"Relatório de Classificação:\\n\", classification_report(y_test, y_predict_new, digits=4))\n",
        "\n",
        "# imprimir a acurácia do modelo\n",
        "print(\"Acurácia: {:.4f}\\n\".format(accuracy_score(y_test, y_predict_new)))\n",
        "\n",
        "# imprimir a área sob da curva\n",
        "print(\"AUC: {:.4f}\\n\".format(roc_auc_score(y_test, y_predict_new)))"
      ],
      "execution_count": 25,
      "outputs": [
        {
          "output_type": "stream",
          "text": [
            "Relatório de Classificação:\n",
            "               precision    recall  f1-score   support\n",
            "\n",
            "           0     0.9998    0.9893    0.9945     71079\n",
            "           1     0.1223    0.8618    0.2141       123\n",
            "\n",
            "    accuracy                         0.9891     71202\n",
            "   macro avg     0.5610    0.9255    0.6043     71202\n",
            "weighted avg     0.9982    0.9891    0.9932     71202\n",
            "\n",
            "Acurácia: 0.9891\n",
            "\n",
            "AUC: 0.9255\n",
            "\n"
          ],
          "name": "stdout"
        },
        {
          "output_type": "display_data",
          "data": {
            "image/png": "[encoded data removed]",
            "text/plain": [
              "<Figure size 432x288 with 2 Axes>"
            ]
          },
          "metadata": {
            "tags": []
          }
        }
      ]
    },
    {
      "cell_type": "markdown",
      "metadata": {
        "id": "PCuHl3nE93GP"
      },
      "source": [
        "## Conclusões\n",
        "Ao comparar dois algoritmos de Classificação é possível perceber que o aumento da acurácia pode ser acompanhado de um aumento em falsos positivos. Em casos de compras com cartões de crédito, um modelo que permite uma maior incidência de falso positivo gerará transtornos aos clientes reais. Ao tentar realizar uma compra, a chance de ser identificado como fraude acusará um falso positivo. Por isso, apesar do Modelo SVM apresentar aumento de acurácia (98.91%) em relação ao Modelo de Regressão Logística (97.12%), o número de falsos positivos chega a um aumento de 4%. Tal fato deve ser bem estudado pelos dados de uma empresa de cartões para evitar um aumento de transtornos com compras legítimas.\n"
      ]
    }
  ]
}